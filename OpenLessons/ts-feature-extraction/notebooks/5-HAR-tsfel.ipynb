{
 "cells": [
  {
   "cell_type": "markdown",
   "metadata": {},
   "source": [
    "# Time Series Feature Extraction Library\n",
    "\n",
    "GitHub - https://github.com/fraunhoferportugal/tsfel\n",
    "\n",
    "Docs - https://tsfel.readthedocs.io/en/latest/"
   ]
  },
  {
   "cell_type": "code",
   "execution_count": 1,
   "metadata": {},
   "outputs": [],
   "source": [
    "import sys\n",
    "sys.path.append(\n",
    "    \"/Users/dmitrys/Desktop/DataProjects/otus-advanced-ml/Materials/13-ts-feature-extraction/\"\n",
    ")\n",
    "import warnings\n",
    "warnings.filterwarnings(\"ignore\")"
   ]
  },
  {
   "cell_type": "code",
   "execution_count": 2,
   "metadata": {},
   "outputs": [],
   "source": [
    "import tsfel\n",
    "\n",
    "import numpy as np\n",
    "import pandas as pd\n",
    "import seaborn as sns\n",
    "import matplotlib.pyplot as plt\n",
    "\n",
    "from scipy import interpolate\n",
    "from sklearn import preprocessing\n",
    "from sklearn.feature_selection import VarianceThreshold\n",
    "from sklearn.metrics import classification_report, confusion_matrix, accuracy_score\n",
    "from sklearn.ensemble import RandomForestClassifier"
   ]
  },
  {
   "cell_type": "code",
   "execution_count": 3,
   "metadata": {},
   "outputs": [],
   "source": [
    "from src.utils import *"
   ]
  },
  {
   "cell_type": "code",
   "execution_count": 4,
   "metadata": {},
   "outputs": [],
   "source": [
    "INPUT_FOLDER_TRAIN = '../data/raw/UCI_HAR/train/InertialSignals/'\n",
    "INPUT_FOLDER_TEST = '../data/raw/UCI_HAR/test/InertialSignals/'\n",
    "\n",
    "LABELFILE_TRAIN = '../data/raw/UCI_HAR/train/y_train.txt'\n",
    "LABELFILE_TEST = '../data/raw/UCI_HAR/test/y_test.txt'\n",
    "\n",
    "train_signals, test_signals, train_labels, test_labels = read_data(\n",
    "    input_folder_train=INPUT_FOLDER_TRAIN,\n",
    "    input_folder_test=INPUT_FOLDER_TEST,\n",
    "    labelfile_train=LABELFILE_TRAIN,\n",
    "    labelfile_test=LABELFILE_TEST\n",
    ")\n",
    "\n",
    "train_signals, train_labels = randomize(train_signals, np.array(train_labels))\n",
    "test_signals, test_labels = randomize(test_signals, np.array(test_labels))"
   ]
  },
  {
   "cell_type": "code",
   "execution_count": 5,
   "metadata": {},
   "outputs": [],
   "source": [
    "# dataset sampling frequency\n",
    "fs = 100"
   ]
  },
  {
   "cell_type": "code",
   "execution_count": 6,
   "metadata": {},
   "outputs": [],
   "source": [
    "cfg_file = tsfel.get_features_by_domain('temporal')"
   ]
  },
  {
   "cell_type": "code",
   "execution_count": 7,
   "metadata": {},
   "outputs": [
    {
     "data": {
      "text/plain": [
       "{'temporal': {'Absolute energy': {'complexity': 'log',\n",
       "   'description': 'Computes the absolute energy of the signal.',\n",
       "   'function': 'tsfel.abs_energy',\n",
       "   'parameters': '',\n",
       "   'use': 'yes'},\n",
       "  'Area under the curve': {'complexity': 'log',\n",
       "   'description': 'Computes the area under the curve of the signal computed with trapezoid rule.',\n",
       "   'function': 'tsfel.auc',\n",
       "   'parameters': {'fs': 100},\n",
       "   'use': 'yes'},\n",
       "  'Autocorrelation': {'complexity': 'constant',\n",
       "   'description': 'Computes autocorrelation of the signal.',\n",
       "   'function': 'tsfel.autocorr',\n",
       "   'parameters': '',\n",
       "   'use': 'yes'},\n",
       "  'Centroid': {'complexity': 'constant',\n",
       "   'description': 'Computes the centroid along the time axis.',\n",
       "   'function': 'tsfel.calc_centroid',\n",
       "   'parameters': {'fs': 100},\n",
       "   'use': 'yes'},\n",
       "  'Entropy': {'complexity': 'log',\n",
       "   'description': 'Computes the entropy of the signal using the Shannon Entropy.',\n",
       "   'function': 'tsfel.entropy',\n",
       "   'parameters': {'prob': 'standard'},\n",
       "   'use': 'yes'},\n",
       "  'Mean absolute diff': {'complexity': 'constant',\n",
       "   'description': 'Computes mean absolute differences of the signal.',\n",
       "   'function': 'tsfel.mean_abs_diff',\n",
       "   'parameters': '',\n",
       "   'use': 'yes'},\n",
       "  'Mean diff': {'complexity': 'constant',\n",
       "   'description': 'Computes mean of differences of the signal.',\n",
       "   'function': 'tsfel.mean_diff',\n",
       "   'parameters': '',\n",
       "   'use': 'yes'},\n",
       "  'Median absolute diff': {'complexity': 'constant',\n",
       "   'description': 'Computes median absolute differences of the signal.',\n",
       "   'function': 'tsfel.median_abs_diff',\n",
       "   'parameters': '',\n",
       "   'use': 'yes'},\n",
       "  'Median diff': {'complexity': 'constant',\n",
       "   'description': 'Computes median of differences of the signal.',\n",
       "   'function': 'tsfel.median_diff',\n",
       "   'parameters': '',\n",
       "   'use': 'yes'},\n",
       "  'Negative turning points': {'complexity': 'constant',\n",
       "   'description': 'Computes number of negative turning points of the signal.',\n",
       "   'function': 'tsfel.negative_turning',\n",
       "   'parameters': '',\n",
       "   'use': 'yes'},\n",
       "  'Neighbourhood peaks': {'complexity': 'constant',\n",
       "   'description': 'Computes the number of peaks from a defined neighbourhood of the signal.',\n",
       "   'function': 'tsfel.neighbourhood_peaks',\n",
       "   'parameters': {'n': 10},\n",
       "   'use': 'yes'},\n",
       "  'Peak to peak distance': {'complexity': 'constant',\n",
       "   'description': 'Computes the peak to peak distance.',\n",
       "   'function': 'tsfel.pk_pk_distance',\n",
       "   'parameters': '',\n",
       "   'use': 'yes'},\n",
       "  'Positive turning points': {'complexity': 'constant',\n",
       "   'description': 'Computes number of positive turning points of the signal.',\n",
       "   'function': 'tsfel.positive_turning',\n",
       "   'parameters': '',\n",
       "   'use': 'yes'},\n",
       "  'Signal distance': {'complexity': 'constant',\n",
       "   'description': 'Computes signal traveled distance.',\n",
       "   'function': 'tsfel.distance',\n",
       "   'parameters': '',\n",
       "   'use': 'yes'},\n",
       "  'Slope': {'complexity': 'log',\n",
       "   'description': 'Computes the slope of the signal by fitting a linear equation to the observed data.',\n",
       "   'function': 'tsfel.slope',\n",
       "   'parameters': '',\n",
       "   'use': 'yes'},\n",
       "  'Sum absolute diff': {'complexity': 'constant',\n",
       "   'description': 'Computes sum of absolute differences of the signal.',\n",
       "   'function': 'tsfel.sum_abs_diff',\n",
       "   'parameters': '',\n",
       "   'use': 'yes'},\n",
       "  'Total energy': {'complexity': 'constant',\n",
       "   'description': 'Computes the total energy of the signal.',\n",
       "   'function': 'tsfel.total_energy',\n",
       "   'parameters': {'fs': 100},\n",
       "   'use': 'yes'},\n",
       "  'Zero crossing rate': {'complexity': 'constant',\n",
       "   'description': 'Computes Zero-crossing rate of the signal.',\n",
       "   'function': 'tsfel.zero_cross',\n",
       "   'parameters': '',\n",
       "   'use': 'yes'}}}"
      ]
     },
     "execution_count": 7,
     "metadata": {},
     "output_type": "execute_result"
    }
   ],
   "source": [
    "cfg_file"
   ]
  },
  {
   "cell_type": "code",
   "execution_count": 8,
   "metadata": {},
   "outputs": [
    {
     "data": {
      "text/plain": [
       "(7352, 128, 9)"
      ]
     },
     "execution_count": 8,
     "metadata": {},
     "output_type": "execute_result"
    }
   ],
   "source": [
    "train_signals.shape"
   ]
  },
  {
   "cell_type": "code",
   "execution_count": 9,
   "metadata": {},
   "outputs": [
    {
     "name": "stdout",
     "output_type": "stream",
     "text": [
      "*** Feature extraction started ***\n"
     ]
    },
    {
     "data": {
      "text/html": [
       "\n",
       "              <p>\n",
       "                  Progress: 100% Complete\n",
       "              <p/>            \n",
       "              <progress\n",
       "                  value='7352'\n",
       "                  max='7352',\n",
       "                  style='width: 25%',\n",
       "              >\n",
       "                  7352\n",
       "              </progress>\n",
       "\n",
       "    "
      ],
      "text/plain": [
       "<IPython.core.display.HTML object>"
      ]
     },
     "metadata": {},
     "output_type": "display_data"
    },
    {
     "name": "stdout",
     "output_type": "stream",
     "text": [
      "\n",
      "*** Feature extraction finished ***\n",
      "*** Feature extraction started ***\n"
     ]
    },
    {
     "data": {
      "text/html": [
       "\n",
       "              <p>\n",
       "                  Progress: 100% Complete\n",
       "              <p/>            \n",
       "              <progress\n",
       "                  value='2947'\n",
       "                  max='2947',\n",
       "                  style='width: 25%',\n",
       "              >\n",
       "                  2947\n",
       "              </progress>\n",
       "\n",
       "    "
      ],
      "text/plain": [
       "<IPython.core.display.HTML object>"
      ]
     },
     "metadata": {},
     "output_type": "display_data"
    },
    {
     "name": "stdout",
     "output_type": "stream",
     "text": [
      "\n",
      "*** Feature extraction finished ***\n"
     ]
    }
   ],
   "source": [
    "EXTRACT = True\n",
    "\n",
    "if EXTRACT:\n",
    "    X_train = tsfel.time_series_features_extractor(cfg_file, train_signals, fs=fs)\n",
    "    X_test = tsfel.time_series_features_extractor(cfg_file, test_signals, fs=fs)\n",
    "    X_train.to_csv('../data/processed/X_train_tsfel.csv')\n",
    "    X_test.to_csv('../data/processed/X_test_tsfel.csv')\n",
    "else:\n",
    "    X_train = pd.read_csv('../data/processed/X_train_tsfel.csv', index_col=0)\n",
    "    X_test = pd.read_csv('../data/processed/X_test_tsfel.csv', index_col=0)"
   ]
  },
  {
   "cell_type": "code",
   "execution_count": 10,
   "metadata": {},
   "outputs": [],
   "source": [
    "# Highly correlated features are removed\n",
    "corr_features = tsfel.correlated_features(X_train)\n",
    "X_train.drop(corr_features, axis=1, inplace=True)\n",
    "X_test.drop(corr_features, axis=1, inplace=True)\n",
    "\n",
    "# Remove low variance features\n",
    "selector = VarianceThreshold()\n",
    "X_train = selector.fit_transform(X_train)\n",
    "X_test = selector.transform(X_test)"
   ]
  },
  {
   "cell_type": "code",
   "execution_count": 11,
   "metadata": {},
   "outputs": [],
   "source": [
    "Y_train = np.array(train_labels)\n",
    "Y_test = np.array(test_labels)"
   ]
  },
  {
   "cell_type": "code",
   "execution_count": 12,
   "metadata": {},
   "outputs": [
    {
     "data": {
      "text/plain": [
       "((7352, 87), (2947, 87))"
      ]
     },
     "execution_count": 12,
     "metadata": {},
     "output_type": "execute_result"
    }
   ],
   "source": [
    "X_train.shape, X_test.shape"
   ]
  },
  {
   "cell_type": "code",
   "execution_count": 13,
   "metadata": {},
   "outputs": [
    {
     "data": {
      "text/plain": [
       "[<matplotlib.lines.Line2D at 0x1349712e8>]"
      ]
     },
     "execution_count": 13,
     "metadata": {},
     "output_type": "execute_result"
    },
    {
     "data": {
      "image/png": "[encoded data removed]",
      "text/plain": [
       "<Figure size 432x288 with 1 Axes>"
      ]
     },
     "metadata": {
      "needs_background": "light"
     },
     "output_type": "display_data"
    }
   ],
   "source": [
    "plt.plot(X_train[0])"
   ]
  },
  {
   "cell_type": "code",
   "execution_count": 14,
   "metadata": {},
   "outputs": [
    {
     "data": {
      "text/plain": [
       "<matplotlib.axes._subplots.AxesSubplot at 0x1296382e8>"
      ]
     },
     "execution_count": 14,
     "metadata": {},
     "output_type": "execute_result"
    },
    {
     "data": {
      "image/png": "[encoded data removed]",
      "text/plain": [
       "<Figure size 432x288 with 1 Axes>"
      ]
     },
     "metadata": {
      "needs_background": "light"
     },
     "output_type": "display_data"
    }
   ],
   "source": [
    "pd.DataFrame(X_train).groupby(pd.Series(Y_train)).mean().T.plot()"
   ]
  },
  {
   "cell_type": "code",
   "execution_count": 15,
   "metadata": {},
   "outputs": [
    {
     "name": "stdout",
     "output_type": "stream",
     "text": [
      "Accuracy on training set is : 1.0\n",
      "Accuracy on test set is : 0.9131319986426875\n",
      "              precision    recall  f1-score   support\n",
      "\n",
      "           1       0.92      0.94      0.93       496\n",
      "           2       0.87      0.96      0.91       471\n",
      "           3       0.93      0.80      0.86       420\n",
      "           4       0.91      0.83      0.87       491\n",
      "           5       0.86      0.92      0.89       532\n",
      "           6       1.00      1.00      1.00       537\n",
      "\n",
      "    accuracy                           0.91      2947\n",
      "   macro avg       0.91      0.91      0.91      2947\n",
      "weighted avg       0.91      0.91      0.91      2947\n",
      "\n"
     ]
    }
   ],
   "source": [
    "clf = RandomForestClassifier(n_estimators=100)\n",
    "clf.fit(X_train, Y_train)\n",
    "print(\"Accuracy on training set is : {}\".format(clf.score(X_train, Y_train)))\n",
    "print(\"Accuracy on test set is : {}\".format(clf.score(X_test, Y_test)))\n",
    "Y_test_pred = clf.predict(X_test)\n",
    "print(classification_report(Y_test, Y_test_pred))"
   ]
  },
  {
   "cell_type": "code",
   "execution_count": 16,
   "metadata": {
    "code_folding": [
     0
    ]
   },
   "outputs": [
    {
     "data": {
      "image/png": "[encoded data removed]",
      "text/plain": [
       "<Figure size 432x432 with 1 Axes>"
      ]
     },
     "metadata": {
      "needs_background": "light"
     },
     "output_type": "display_data"
    }
   ],
   "source": [
    "activities_description = {\n",
    "    1: 'walking',\n",
    "    2: 'walking upstairs',\\\n",
    "    3: 'walking downstairs',\n",
    "    4: 'sitting',\n",
    "    5: 'standing',\n",
    "    6: 'laying'\n",
    "}   \n",
    "plot_confusion(Y_test, Y_test_pred, activities_description.values())"
   ]
  },
  {
   "cell_type": "code",
   "execution_count": null,
   "metadata": {},
   "outputs": [],
   "source": []
  }
 ],
 "metadata": {
  "kernelspec": {
   "display_name": "Python 3",
   "language": "python",
   "name": "python3"
  },
  "language_info": {
   "codemirror_mode": {
    "name": "ipython",
    "version": 3
   },
   "file_extension": ".py",
   "mimetype": "text/x-python",
   "name": "python",
   "nbconvert_exporter": "python",
   "pygments_lexer": "ipython3",
   "version": "3.7.3"
  },
  "varInspector": {
   "cols": {
    "lenName": 16,
    "lenType": 16,
    "lenVar": 40
   },
   "kernels_config": {
    "python": {
     "delete_cmd_postfix": "",
     "delete_cmd_prefix": "del ",
     "library": "var_list.py",
     "varRefreshCmd": "print(var_dic_list())"
    },
    "r": {
     "delete_cmd_postfix": ") ",
     "delete_cmd_prefix": "rm(",
     "library": "var_list.r",
     "varRefreshCmd": "cat(var_dic_list()) "
    }
   },
   "types_to_exclude": [
    "module",
    "function",
    "builtin_function_or_method",
    "instance",
    "_Feature"
   ],
   "window_display": false
  }
 },
 "nbformat": 4,
 "nbformat_minor": 2
}
