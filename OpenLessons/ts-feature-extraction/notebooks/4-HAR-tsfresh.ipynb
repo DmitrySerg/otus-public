{
 "cells": [
  {
   "cell_type": "markdown",
   "metadata": {},
   "source": [
    "# Atuomated Feature Generation \n",
    "https://github.com/blue-yonder/tsfresh"
   ]
  },
  {
   "cell_type": "code",
   "execution_count": 1,
   "metadata": {},
   "outputs": [],
   "source": [
    "import sys\n",
    "sys.path.append(\n",
    "    \"/Users/dmitrys/Desktop/DataProjects/otus-advanced-ml/Materials/13-ts-feature-extraction/\"\n",
    ")\n",
    "\n",
    "import warnings\n",
    "warnings.filterwarnings(\"ignore\")\n",
    "\n",
    "import numpy as np\n",
    "import pandas as pd\n",
    "\n",
    "from tqdm.autonotebook import tqdm\n",
    "\n",
    "# импортируем необходимые функции из библиотеки\n",
    "from tsfresh.examples.har_dataset import download_har_dataset, load_har_dataset, load_har_classes\n",
    "from tsfresh import extract_features, extract_relevant_features, select_features\n",
    "from tsfresh.utilities.dataframe_functions import impute\n",
    "from tsfresh.feature_extraction import settings\n",
    "\n",
    "from sklearn.ensemble import RandomForestClassifier\n",
    "from sklearn.metrics import classification_report\n",
    "from sklearn.feature_selection import VarianceThreshold\n",
    "from sklearn.preprocessing import StandardScaler\n",
    "\n",
    "from src.utils import *"
   ]
  },
  {
   "cell_type": "code",
   "execution_count": 3,
   "metadata": {},
   "outputs": [],
   "source": [
    "INPUT_FOLDER_TRAIN = '../data/raw/UCI_HAR/train/InertialSignals/'\n",
    "INPUT_FOLDER_TEST = '../data/raw/UCI_HAR/test/InertialSignals/'\n",
    "\n",
    "LABELFILE_TRAIN = '../data/raw/UCI_HAR/train/y_train.txt'\n",
    "LABELFILE_TEST = '../data/raw/UCI_HAR/test/y_test.txt'\n",
    "\n",
    "train_signals, test_signals, train_labels, test_labels = read_data(\n",
    "    input_folder_train=INPUT_FOLDER_TRAIN,\n",
    "    input_folder_test=INPUT_FOLDER_TEST,\n",
    "    labelfile_train=LABELFILE_TRAIN,\n",
    "    labelfile_test=LABELFILE_TEST\n",
    ")\n",
    "\n",
    "train_signals, train_labels = randomize(train_signals, np.array(train_labels))\n",
    "test_signals, test_labels = randomize(test_signals, np.array(test_labels))"
   ]
  },
  {
   "cell_type": "code",
   "execution_count": 4,
   "metadata": {},
   "outputs": [
    {
     "data": {
      "text/plain": [
       "(7352, 128, 9)"
      ]
     },
     "execution_count": 4,
     "metadata": {},
     "output_type": "execute_result"
    }
   ],
   "source": [
    "train_signals.shape"
   ]
  },
  {
   "cell_type": "code",
   "execution_count": 5,
   "metadata": {},
   "outputs": [],
   "source": [
    "def get_long_dfs(data):\n",
    "    long_dfs = []\n",
    "    for signal in range(0, 9):\n",
    "        signal_df_long = pd.DataFrame(\n",
    "            {\n",
    "                0: data[:, :, signal].reshape(-1),\n",
    "                1: np.arange(data.shape[0]).repeat(data.shape[1])\n",
    "            }\n",
    "        )\n",
    "        long_dfs.append(signal_df_long)\n",
    "    return long_dfs\n",
    "\n",
    "def extract_tsfeatures(data, settings):\n",
    "    long_dfs = get_long_dfs(data)\n",
    "    signal_features = []\n",
    "    for signal in tqdm(range(0, 9), leave=False):\n",
    "        s_features = extract_features(\n",
    "            long_dfs[signal], column_id=1, \n",
    "            impute_function=impute, \n",
    "            default_fc_parameters=settings_efficient,\n",
    "            n_jobs=6,\n",
    "            disable_progressbar=True,\n",
    "            show_warnings=False\n",
    "        )\n",
    "        signal_features.append(s_features)\n",
    "    \n",
    "    signal_features_df = pd.concat(signal_features, axis=1)\n",
    "    return signal_features_df"
   ]
  },
  {
   "cell_type": "code",
   "execution_count": 6,
   "metadata": {},
   "outputs": [
    {
     "data": {
      "text/plain": [
       "{'linear_trend_timewise': [{'attr': 'pvalue'},\n",
       "  {'attr': 'rvalue'},\n",
       "  {'attr': 'intercept'},\n",
       "  {'attr': 'slope'},\n",
       "  {'attr': 'stderr'}],\n",
       " 'sum_values': None,\n",
       " 'median': None,\n",
       " 'mean': None,\n",
       " 'length': None,\n",
       " 'standard_deviation': None,\n",
       " 'variance': None,\n",
       " 'maximum': None,\n",
       " 'minimum': None,\n",
       " 'skewness': None,\n",
       " 'kurtosis': None,\n",
       " 'percentage_of_reoccurring_values_to_all_values': None,\n",
       " 'quantile': [{'q': 0.1},\n",
       "  {'q': 0.2},\n",
       "  {'q': 0.3},\n",
       "  {'q': 0.4},\n",
       "  {'q': 0.6},\n",
       "  {'q': 0.7},\n",
       "  {'q': 0.8},\n",
       "  {'q': 0.9}]}"
      ]
     },
     "execution_count": 6,
     "metadata": {},
     "output_type": "execute_result"
    }
   ],
   "source": [
    "#settings_efficient = settings.EfficientFCParameters()\n",
    "\n",
    "settings_efficient = settings.TimeBasedFCParameters()\n",
    "settings_efficient.update(settings.MinimalFCParameters())\n",
    "settings_efficient.update(settings.IndexBasedFCParameters())\n",
    "settings_efficient"
   ]
  },
  {
   "cell_type": "code",
   "execution_count": 7,
   "metadata": {},
   "outputs": [
    {
     "data": {
      "application/vnd.jupyter.widget-view+json": {
       "model_id": "",
       "version_major": 2,
       "version_minor": 0
      },
      "text/plain": [
       "HBox(children=(IntProgress(value=0, max=9), HTML(value='')))"
      ]
     },
     "metadata": {},
     "output_type": "display_data"
    },
    {
     "name": "stdout",
     "output_type": "stream",
     "text": [
      "\r"
     ]
    },
    {
     "data": {
      "application/vnd.jupyter.widget-view+json": {
       "model_id": "",
       "version_major": 2,
       "version_minor": 0
      },
      "text/plain": [
       "HBox(children=(IntProgress(value=0, max=9), HTML(value='')))"
      ]
     },
     "metadata": {},
     "output_type": "display_data"
    },
    {
     "name": "stdout",
     "output_type": "stream",
     "text": [
      "\r"
     ]
    }
   ],
   "source": [
    "EXTRACT = True\n",
    "\n",
    "if EXTRACT:\n",
    "    X_train = extract_tsfeatures(train_signals, settings_efficient)\n",
    "    X_test = extract_tsfeatures(test_signals, settings_efficient)\n",
    "    X_train.to_csv('../data/processed/X_train_eff.csv')\n",
    "    X_test.to_csv('../data/processed/X_test_eff.csv')\n",
    "else:\n",
    "    X_train = pd.read_csv('../data/processed/X_train_eff.csv', index_col=0)\n",
    "    X_test = pd.read_csv('../data/processed/X_test_eff.csv', index_col=0)"
   ]
  },
  {
   "cell_type": "code",
   "execution_count": 8,
   "metadata": {},
   "outputs": [],
   "source": [
    "# доюбавить сохранение y_train и y_test"
   ]
  },
  {
   "cell_type": "code",
   "execution_count": 9,
   "metadata": {},
   "outputs": [],
   "source": [
    "Y_train = np.array(train_labels)\n",
    "Y_test = np.array(test_labels)"
   ]
  },
  {
   "cell_type": "code",
   "execution_count": 10,
   "metadata": {},
   "outputs": [
    {
     "data": {
      "text/html": [
       "<div>\n",
       "<style scoped>\n",
       "    .dataframe tbody tr th:only-of-type {\n",
       "        vertical-align: middle;\n",
       "    }\n",
       "\n",
       "    .dataframe tbody tr th {\n",
       "        vertical-align: top;\n",
       "    }\n",
       "\n",
       "    .dataframe thead th {\n",
       "        text-align: right;\n",
       "    }\n",
       "</style>\n",
       "<table border=\"1\" class=\"dataframe\">\n",
       "  <thead>\n",
       "    <tr style=\"text-align: right;\">\n",
       "      <th>variable</th>\n",
       "      <th>0__kurtosis</th>\n",
       "      <th>0__length</th>\n",
       "      <th>0__maximum</th>\n",
       "      <th>0__mean</th>\n",
       "      <th>0__median</th>\n",
       "      <th>0__minimum</th>\n",
       "      <th>0__percentage_of_reoccurring_values_to_all_values</th>\n",
       "      <th>0__quantile__q_0.1</th>\n",
       "      <th>0__quantile__q_0.2</th>\n",
       "      <th>0__quantile__q_0.3</th>\n",
       "      <th>...</th>\n",
       "      <th>0__quantile__q_0.3</th>\n",
       "      <th>0__quantile__q_0.4</th>\n",
       "      <th>0__quantile__q_0.6</th>\n",
       "      <th>0__quantile__q_0.7</th>\n",
       "      <th>0__quantile__q_0.8</th>\n",
       "      <th>0__quantile__q_0.9</th>\n",
       "      <th>0__skewness</th>\n",
       "      <th>0__standard_deviation</th>\n",
       "      <th>0__sum_values</th>\n",
       "      <th>0__variance</th>\n",
       "    </tr>\n",
       "    <tr>\n",
       "      <th>id</th>\n",
       "      <th></th>\n",
       "      <th></th>\n",
       "      <th></th>\n",
       "      <th></th>\n",
       "      <th></th>\n",
       "      <th></th>\n",
       "      <th></th>\n",
       "      <th></th>\n",
       "      <th></th>\n",
       "      <th></th>\n",
       "      <th></th>\n",
       "      <th></th>\n",
       "      <th></th>\n",
       "      <th></th>\n",
       "      <th></th>\n",
       "      <th></th>\n",
       "      <th></th>\n",
       "      <th></th>\n",
       "      <th></th>\n",
       "      <th></th>\n",
       "      <th></th>\n",
       "    </tr>\n",
       "  </thead>\n",
       "  <tbody>\n",
       "    <tr>\n",
       "      <th>0</th>\n",
       "      <td>-0.822494</td>\n",
       "      <td>128.0</td>\n",
       "      <td>0.006152</td>\n",
       "      <td>0.000305</td>\n",
       "      <td>0.000785</td>\n",
       "      <td>-0.007353</td>\n",
       "      <td>0.0</td>\n",
       "      <td>-0.003488</td>\n",
       "      <td>-0.002690</td>\n",
       "      <td>-0.001769</td>\n",
       "      <td>...</td>\n",
       "      <td>0.308950</td>\n",
       "      <td>0.310487</td>\n",
       "      <td>0.312240</td>\n",
       "      <td>0.313464</td>\n",
       "      <td>0.314574</td>\n",
       "      <td>0.316184</td>\n",
       "      <td>-0.498126</td>\n",
       "      <td>0.004994</td>\n",
       "      <td>39.796513</td>\n",
       "      <td>0.000025</td>\n",
       "    </tr>\n",
       "    <tr>\n",
       "      <th>1</th>\n",
       "      <td>1.322495</td>\n",
       "      <td>128.0</td>\n",
       "      <td>0.797700</td>\n",
       "      <td>-0.008001</td>\n",
       "      <td>-0.097512</td>\n",
       "      <td>-0.335796</td>\n",
       "      <td>0.0</td>\n",
       "      <td>-0.243790</td>\n",
       "      <td>-0.195097</td>\n",
       "      <td>-0.163283</td>\n",
       "      <td>...</td>\n",
       "      <td>-0.049080</td>\n",
       "      <td>-0.033079</td>\n",
       "      <td>0.016916</td>\n",
       "      <td>0.071560</td>\n",
       "      <td>0.112814</td>\n",
       "      <td>0.236842</td>\n",
       "      <td>1.090667</td>\n",
       "      <td>0.148874</td>\n",
       "      <td>3.496987</td>\n",
       "      <td>0.022163</td>\n",
       "    </tr>\n",
       "    <tr>\n",
       "      <th>2</th>\n",
       "      <td>-0.055011</td>\n",
       "      <td>128.0</td>\n",
       "      <td>0.796968</td>\n",
       "      <td>0.000463</td>\n",
       "      <td>-0.020524</td>\n",
       "      <td>-0.515087</td>\n",
       "      <td>0.0</td>\n",
       "      <td>-0.347119</td>\n",
       "      <td>-0.277674</td>\n",
       "      <td>-0.206224</td>\n",
       "      <td>...</td>\n",
       "      <td>-0.113447</td>\n",
       "      <td>-0.093174</td>\n",
       "      <td>-0.000216</td>\n",
       "      <td>0.054919</td>\n",
       "      <td>0.115115</td>\n",
       "      <td>0.156696</td>\n",
       "      <td>0.550958</td>\n",
       "      <td>0.137284</td>\n",
       "      <td>-2.787231</td>\n",
       "      <td>0.018847</td>\n",
       "    </tr>\n",
       "    <tr>\n",
       "      <th>3</th>\n",
       "      <td>0.138542</td>\n",
       "      <td>128.0</td>\n",
       "      <td>0.497473</td>\n",
       "      <td>-0.020494</td>\n",
       "      <td>-0.031067</td>\n",
       "      <td>-0.517116</td>\n",
       "      <td>0.0</td>\n",
       "      <td>-0.248529</td>\n",
       "      <td>-0.206077</td>\n",
       "      <td>-0.134801</td>\n",
       "      <td>...</td>\n",
       "      <td>-0.345324</td>\n",
       "      <td>-0.290156</td>\n",
       "      <td>-0.221207</td>\n",
       "      <td>-0.141384</td>\n",
       "      <td>-0.077718</td>\n",
       "      <td>-0.045155</td>\n",
       "      <td>-0.360658</td>\n",
       "      <td>0.193459</td>\n",
       "      <td>-34.030293</td>\n",
       "      <td>0.037426</td>\n",
       "    </tr>\n",
       "    <tr>\n",
       "      <th>4</th>\n",
       "      <td>0.279090</td>\n",
       "      <td>128.0</td>\n",
       "      <td>0.008563</td>\n",
       "      <td>-0.000358</td>\n",
       "      <td>-0.000441</td>\n",
       "      <td>-0.005912</td>\n",
       "      <td>0.0</td>\n",
       "      <td>-0.003774</td>\n",
       "      <td>-0.002584</td>\n",
       "      <td>-0.001985</td>\n",
       "      <td>...</td>\n",
       "      <td>0.062372</td>\n",
       "      <td>0.063756</td>\n",
       "      <td>0.066468</td>\n",
       "      <td>0.067822</td>\n",
       "      <td>0.068906</td>\n",
       "      <td>0.070589</td>\n",
       "      <td>0.236987</td>\n",
       "      <td>0.005367</td>\n",
       "      <td>8.299124</td>\n",
       "      <td>0.000029</td>\n",
       "    </tr>\n",
       "  </tbody>\n",
       "</table>\n",
       "<p>5 rows × 171 columns</p>\n",
       "</div>"
      ],
      "text/plain": [
       "variable  0__kurtosis  0__length  0__maximum   0__mean  0__median  0__minimum  \\\n",
       "id                                                                              \n",
       "0           -0.822494      128.0    0.006152  0.000305   0.000785   -0.007353   \n",
       "1            1.322495      128.0    0.797700 -0.008001  -0.097512   -0.335796   \n",
       "2           -0.055011      128.0    0.796968  0.000463  -0.020524   -0.515087   \n",
       "3            0.138542      128.0    0.497473 -0.020494  -0.031067   -0.517116   \n",
       "4            0.279090      128.0    0.008563 -0.000358  -0.000441   -0.005912   \n",
       "\n",
       "variable  0__percentage_of_reoccurring_values_to_all_values  \\\n",
       "id                                                            \n",
       "0                                                       0.0   \n",
       "1                                                       0.0   \n",
       "2                                                       0.0   \n",
       "3                                                       0.0   \n",
       "4                                                       0.0   \n",
       "\n",
       "variable  0__quantile__q_0.1  0__quantile__q_0.2  0__quantile__q_0.3  ...  \\\n",
       "id                                                                    ...   \n",
       "0                  -0.003488           -0.002690           -0.001769  ...   \n",
       "1                  -0.243790           -0.195097           -0.163283  ...   \n",
       "2                  -0.347119           -0.277674           -0.206224  ...   \n",
       "3                  -0.248529           -0.206077           -0.134801  ...   \n",
       "4                  -0.003774           -0.002584           -0.001985  ...   \n",
       "\n",
       "variable  0__quantile__q_0.3  0__quantile__q_0.4  0__quantile__q_0.6  \\\n",
       "id                                                                     \n",
       "0                   0.308950            0.310487            0.312240   \n",
       "1                  -0.049080           -0.033079            0.016916   \n",
       "2                  -0.113447           -0.093174           -0.000216   \n",
       "3                  -0.345324           -0.290156           -0.221207   \n",
       "4                   0.062372            0.063756            0.066468   \n",
       "\n",
       "variable  0__quantile__q_0.7  0__quantile__q_0.8  0__quantile__q_0.9  \\\n",
       "id                                                                     \n",
       "0                   0.313464            0.314574            0.316184   \n",
       "1                   0.071560            0.112814            0.236842   \n",
       "2                   0.054919            0.115115            0.156696   \n",
       "3                  -0.141384           -0.077718           -0.045155   \n",
       "4                   0.067822            0.068906            0.070589   \n",
       "\n",
       "variable  0__skewness  0__standard_deviation  0__sum_values  0__variance  \n",
       "id                                                                        \n",
       "0           -0.498126               0.004994      39.796513     0.000025  \n",
       "1            1.090667               0.148874       3.496987     0.022163  \n",
       "2            0.550958               0.137284      -2.787231     0.018847  \n",
       "3           -0.360658               0.193459     -34.030293     0.037426  \n",
       "4            0.236987               0.005367       8.299124     0.000029  \n",
       "\n",
       "[5 rows x 171 columns]"
      ]
     },
     "execution_count": 10,
     "metadata": {},
     "output_type": "execute_result"
    }
   ],
   "source": [
    "X_train.head()"
   ]
  },
  {
   "cell_type": "code",
   "execution_count": 11,
   "metadata": {},
   "outputs": [
    {
     "data": {
      "text/plain": [
       "(7352, 162)"
      ]
     },
     "execution_count": 11,
     "metadata": {},
     "output_type": "execute_result"
    }
   ],
   "source": [
    "# Remove low variance features\n",
    "selector = VarianceThreshold(threshold=0)\n",
    "X_train_reduced = selector.fit_transform(X_train)\n",
    "X_test_reduced = selector.transform(X_test)\n",
    "X_train_reduced.shape"
   ]
  },
  {
   "cell_type": "code",
   "execution_count": 12,
   "metadata": {},
   "outputs": [
    {
     "name": "stdout",
     "output_type": "stream",
     "text": [
      "Accuracy on training set is : 1.0\n",
      "Accuracy on test set is : 0.829996606718697\n",
      "              precision    recall  f1-score   support\n",
      "\n",
      "           1       0.67      0.70      0.68       496\n",
      "           2       0.73      0.71      0.72       471\n",
      "           3       0.86      0.84      0.85       420\n",
      "           4       0.88      0.82      0.85       491\n",
      "           5       0.84      0.89      0.87       532\n",
      "           6       1.00      1.00      1.00       537\n",
      "\n",
      "    accuracy                           0.83      2947\n",
      "   macro avg       0.83      0.83      0.83      2947\n",
      "weighted avg       0.83      0.83      0.83      2947\n",
      "\n"
     ]
    }
   ],
   "source": [
    "clf = RandomForestClassifier(n_estimators=100)\n",
    "clf.fit(X_train_reduced, Y_train)\n",
    "print(\"Accuracy on training set is : {}\".format(clf.score(X_train_reduced, Y_train)))\n",
    "print(\"Accuracy on test set is : {}\".format(clf.score(X_test_reduced, Y_test)))\n",
    "Y_test_pred = clf.predict(X_test_reduced)\n",
    "print(classification_report(Y_test, Y_test_pred))"
   ]
  },
  {
   "cell_type": "code",
   "execution_count": 13,
   "metadata": {
    "code_folding": [
     0
    ]
   },
   "outputs": [
    {
     "data": {
      "image/png": "[encoded data removed]",
      "text/plain": [
       "<Figure size 432x432 with 1 Axes>"
      ]
     },
     "metadata": {
      "needs_background": "light"
     },
     "output_type": "display_data"
    }
   ],
   "source": [
    "activities_description = {\n",
    "    1: 'walking',\n",
    "    2: 'walking upstairs',\\\n",
    "    3: 'walking downstairs',\n",
    "    4: 'sitting',\n",
    "    5: 'standing',\n",
    "    6: 'laying'\n",
    "}   \n",
    "plot_confusion(Y_test, Y_test_pred, activities_description.values())"
   ]
  },
  {
   "cell_type": "code",
   "execution_count": null,
   "metadata": {},
   "outputs": [],
   "source": []
  }
 ],
 "metadata": {
  "kernelspec": {
   "display_name": "Python 3",
   "language": "python",
   "name": "python3"
  },
  "language_info": {
   "codemirror_mode": {
    "name": "ipython",
    "version": 3
   },
   "file_extension": ".py",
   "mimetype": "text/x-python",
   "name": "python",
   "nbconvert_exporter": "python",
   "pygments_lexer": "ipython3",
   "version": "3.7.3"
  },
  "varInspector": {
   "cols": {
    "lenName": 16,
    "lenType": 16,
    "lenVar": 40
   },
   "kernels_config": {
    "python": {
     "delete_cmd_postfix": "",
     "delete_cmd_prefix": "del ",
     "library": "var_list.py",
     "varRefreshCmd": "print(var_dic_list())"
    },
    "r": {
     "delete_cmd_postfix": ") ",
     "delete_cmd_prefix": "rm(",
     "library": "var_list.r",
     "varRefreshCmd": "cat(var_dic_list()) "
    }
   },
   "types_to_exclude": [
    "module",
    "function",
    "builtin_function_or_method",
    "instance",
    "_Feature"
   ],
   "window_display": false
  }
 },
 "nbformat": 4,
 "nbformat_minor": 2
}
