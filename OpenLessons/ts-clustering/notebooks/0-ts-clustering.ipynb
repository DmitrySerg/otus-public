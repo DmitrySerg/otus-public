{
 "cells": [
  {
   "cell_type": "markdown",
   "metadata": {},
   "source": [
    "# Time Series clustering\n",
    "\n",
    "Ссылка на опрос -  https://otus.pw/sDfY/ "
   ]
  },
  {
   "cell_type": "markdown",
   "metadata": {},
   "source": [
    "## Зачем? \n",
    "\n",
    "- Найти похожие по динамике и паттернам группы временных рядов\n",
    "- Финансовый анализ\n",
    "- Поиск аномальных событий\n",
    "- ...\n",
    "\n",
    "## Проблемы\n",
    "\n",
    "- Похожие паттерны могут находиться в разных участках временных рядов (начало/конец)\n",
    "- Временные ряды разной длины\n",
    "- Сложность вычислений\n",
    "\n",
    "## Методы \n",
    "\n",
    "- Классический KMeans и прочие привычные алгоритмы кластеризации\n",
    "    - на сырых данных, приведенных к одной длине (padding/sampling/...)\n",
    "    - на признаках, извлеченных из временных рядов\n",
    "    - вычислительно дешевый\n",
    "- Dynamic Time Warping\n",
    "    - позволяет работать с рядами разной длины\n",
    "    - умеет находить паттерны в разных участках\n",
    "    - вычислительно дорогой\n",
    "- Time Series Embeddings\n",
    "    - берем сеточку, засовываем временные ряды любой длины, на выходе получаем сжатые представления финксированной длины\n",
    "    - кластеризуем эмбеддинги\n",
    "    - profit"
   ]
  },
  {
   "cell_type": "markdown",
   "metadata": {},
   "source": [
    "# Dynamic Time Warping\n",
    "\n",
    "Хорошее объяснение происходящего - https://tslearn.readthedocs.io/en/stable/user_guide/dtw.html#dtw-softdtw\n",
    "\n",
    "\n",
    "<img src=\"https://upload.wikimedia.org/wikipedia/commons/6/69/Euclidean_vs_DTW.jpg\" width=400>"
   ]
  },
  {
   "cell_type": "markdown",
   "metadata": {},
   "source": [
    "## Матрица попарных расстояний и Оптимальный путь\n",
    "\n",
    "$$DTW(x, y) = min_{\\pi} \\sqrt{\\sum_{(i,j)\\in \\pi} d(x_i, y_j)^2},$$\n",
    "\n",
    "где $\\pi = [\\pi_0, ..., \\pi_K]$ - это путь, удовлетворяющий набору условий:\n",
    "- это лист парных индексов $\\pi_k = (i_k, j_k)$, где  $0\\leq i_k < n$ и $0\\leq j_k < m$\n",
    "- $\\pi_0 = (0, 0)$ и $\\pi_K = (n-1, m-1)$\n",
    "- для всех $k>0$, $\\pi_k=(i_k, j_k)$ и $\\pi_{k-1}=(i_{k-1}, j_{k-1})$ удовлетворяют следующим неравенствам:\n",
    "    - $i_{k-1} \\leq i_k \\leq i_{k-1} + 1$\n",
    "    - $j_{j-1} \\leq j_k \\leq j_{k-1} + 1$\n",
    "    \n",
    "\n",
    "А если по-человечески:\n",
    "- Путь - это индексы временных рядов\n",
    "- Путь может ходить по диагонали, горизонтали и вертикали, главное, чтобы был неубывающим по индексам\n",
    "- Стартуем всегда в начале временных рядов, заканчиваем всегда в конце\n",
    "\n",
    "И для наглядности картинка:\n",
    "\n",
    "<img src=\"https://tslearn.readthedocs.io/en/stable/_images/sphx_glr_plot_dtw_thumb.svg\" width=400>\n",
    "\n",
    "Итого наша цель - найти такой путь, который будет минимизировать некоторую метрику расстояния (чаще всего просто евклидову) между соответствующими участками временных рядов. \n",
    "\n",
    "Этот путь можно рассматривать как способ ~~натягивания совы на глобус~~ сопоставления участков временных рядов друг с другом безотносительно времени их появления. В результате, мы находим похожие по паттернам участки и сопоставляем их друг другу. \n",
    "\n",
    "Решается при помощи динамического программирования за $O(nm)$, где $n, m$ - длины рядов.\n",
    "\n",
    "Еще можно навернуть ограничений на путь, чтобы особо долго не ходить, например, сказать, что особого пространства для маневров у нас не будет и можно смотреть только на несколько шагов вперед/назад:\n",
    "\n",
    "<img src=\"https://tslearn.readthedocs.io/en/stable/_images/sakoe_chiba.png\" width=200>"
   ]
  }
 ],
 "metadata": {
  "kernelspec": {
   "display_name": "Python 3",
   "language": "python",
   "name": "python3"
  },
  "language_info": {
   "codemirror_mode": {
    "name": "ipython",
    "version": 3
   },
   "file_extension": ".py",
   "mimetype": "text/x-python",
   "name": "python",
   "nbconvert_exporter": "python",
   "pygments_lexer": "ipython3",
   "version": "3.7.3"
  },
  "varInspector": {
   "cols": {
    "lenName": 16,
    "lenType": 16,
    "lenVar": 40
   },
   "kernels_config": {
    "python": {
     "delete_cmd_postfix": "",
     "delete_cmd_prefix": "del ",
     "library": "var_list.py",
     "varRefreshCmd": "print(var_dic_list())"
    },
    "r": {
     "delete_cmd_postfix": ") ",
     "delete_cmd_prefix": "rm(",
     "library": "var_list.r",
     "varRefreshCmd": "cat(var_dic_list()) "
    }
   },
   "types_to_exclude": [
    "module",
    "function",
    "builtin_function_or_method",
    "instance",
    "_Feature"
   ],
   "window_display": false
  }
 },
 "nbformat": 4,
 "nbformat_minor": 2
}
